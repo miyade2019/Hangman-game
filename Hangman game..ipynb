{
 "cells": [
  {
   "cell_type": "code",
   "execution_count": null,
   "id": "c58d0666-31c2-44c7-b8e7-375e115667ee",
   "metadata": {},
   "outputs": [
    {
     "name": "stdout",
     "output_type": "stream",
     "text": [
      "Adam Asmaca oyununa hoş geldiniz!\n",
      "Tahmin hakkınız: 6 hamle \n",
      "Başarlarrrr\n",
      "Kelime: -----\n"
     ]
    }
   ],
   "source": [
    "# Ödev: Adam Asmaca oyununu full fonksiyonla yapacaksınız\n",
    "# çizgi için bir fonksiyon\n",
    "# harf kontrol için bir bu randomsuz hali\n",
    "\n",
    "def cizgi_oyunu(kelime, tahminler):\n",
    "    cizgi = \"\"\n",
    "    for harf in kelime:\n",
    "        if harf.lower() in tahminler:\n",
    "            cizgi += harf\n",
    "        else:\n",
    "            cizgi += \"-\"\n",
    "    return cizgi\n",
    "\n",
    "def harf_kontrol(harf, kelime):\n",
    "    return harf in kelime.lower()\n",
    "\n",
    "\n",
    "def adam_asmaca_oyunu():\n",
    "    kelimeler = [\"Dog\", \"\tRabbit\", \"Mouse\", \"Cat\", \"Horse\"]\n",
    "    kelime = \"Horse\"\n",
    "    tahmin_hakki = len(kelime)+1\n",
    "    tahminler = []\n",
    "\n",
    "    print(\"Adam Asmaca oyununa hoş geldiniz!\\nTahmin hakkınız:\", tahmin_hakki, \"hamle\",\"\\nBaşarlarrrr\")\n",
    "\n",
    "\n",
    "    while tahmin_hakki > 0:\n",
    "        cizgi = cizgi_oyunu(kelime, tahminler)\n",
    "        print(\"Kelime:\", cizgi)\n",
    "\n",
    "        tahmin = input(\"Bir harf tahmin edin: \").lower()\n",
    "\n",
    "        if tahmin in tahminler:\n",
    "            print(\"Bu harfi zaten tahmin ettiniz.\")\n",
    "            continue\n",
    "\n",
    "        tahminler.append(tahmin)\n",
    "\n",
    "        if harf_kontrol(tahmin, kelime):\n",
    "            print(\"Doğru tahmin!\")\n",
    "        else:\n",
    "            print(\"Yanlış tahmin!\")\n",
    "            tahmin_hakki -= 1\n",
    "            print(\"Kalan tahmin hakkınız:\", tahmin_hakki)\n",
    "\n",
    "        if \"-\" not in cizgi:\n",
    "            print(\"Tebrikler, kelimeyi doğru tahmin ettiniz:\", kelime)\n",
    "            konrol = True\n",
    "            break\n",
    "\n",
    "    if tahmin_hakki == 0:\n",
    "        print(\"Maalesef, tahmin hakkınız kalmadı. Doğru kelime:\", kelime)\n",
    "\n",
    "adam_asmaca_oyunu()"
   ]
  }
 ],
 "metadata": {
  "kernelspec": {
   "display_name": "Python 3 (ipykernel)",
   "language": "python",
   "name": "python3"
  },
  "language_info": {
   "codemirror_mode": {
    "name": "ipython",
    "version": 3
   },
   "file_extension": ".py",
   "mimetype": "text/x-python",
   "name": "python",
   "nbconvert_exporter": "python",
   "pygments_lexer": "ipython3",
   "version": "3.11.7"
  }
 },
 "nbformat": 4,
 "nbformat_minor": 5
}
